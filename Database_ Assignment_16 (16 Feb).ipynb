{
 "cells": [
  {
   "cell_type": "markdown",
   "id": "52dff139-7b4c-49d9-9bac-8eb8f3b193ff",
   "metadata": {
    "tags": []
   },
   "source": [
    "# Q1. What is a database? Differentiate between SQL and NoSQL databases.\n",
    "\n",
    "-A database is an organized collection of structured or unstructured data that can be accessed, managed, and updated in a systematic way. Databases are used to store and manage data for various applications, ranging from small-scale personal applications to large-scale enterprise systems.\n",
    "\n",
    "SQL and NoSQL are two different types of databases that differ in their structure, data model, and query language:\n",
    "\n",
    "\" SQL databases \": SQL stands for Structured Query Language, which is a language used to manage and manipulate relational databases. SQL databases store data in a structured manner, using tables with predefined columns and data types. Each table has a unique key, and the data is stored in rows that correspond to records in the table. SQL databases are highly structured and provide a high level of data integrity and consistency. Some examples of SQL databases include \"MySQL, Oracle, and PostgreSQL\".\n",
    "\n",
    "\" NoSQL databases \": NoSQL stands for \"not only SQL\", which means that NoSQL databases are not limited to SQL query language. NoSQL databases store data in a non-structured or semi-structured manner, using documents, key-value pairs, or graphs. NoSQL databases are highly scalable and can handle large volumes of data with ease. NoSQL databases provide greater flexibility and agility than SQL databases, but at the cost of reduced data integrity and consistency. Some examples of NoSQL databases include \"MongoDB, Cassandra, and Redis\".\n",
    "\n",
    "-In summary, SQL databases are highly structured, provide high data integrity and consistency, and use SQL as a query language. NoSQL databases are highly scalable, provide greater flexibility and agility, and use non-structured or semi-structured data models."
   ]
  },
  {
   "cell_type": "markdown",
   "id": "86cf7496-311a-4771-905f-66ba62a85582",
   "metadata": {},
   "source": [
    "# Q2. What is DDL? Explain why CREATE, DROP, ALTER, and TRUNCATE are used with an example.\n",
    "\n",
    "-DL stands for Data Definition Language, which is a set of SQL commands used to create, modify, and delete database objects such as tables, indexes, and constraints. DDL is used to define the structure of a database and its objects.\n",
    "\n",
    "The following are some of the commonly used DDL commands and their usage:\n",
    "\n",
    "\" CREATE \": The CREATE command is used to create a new database object such as a table, index, or view.\n",
    "For example, to create a new table named \"users\" with columns for user ID, name, and email address, we can use the following SQL statement:\n",
    "\n",
    "\" DROP \": The DROP command is used to delete an existing database object such as a table, index, or view.\n",
    "For example, to delete the \"users\" table created above, we can use the following SQL statement:\n",
    "\n",
    "\" ALTER \": The ALTER command is used to modify the structure of an existing database object such as a table or index.\n",
    "For example, to add a new column \"age\" to the \"users\" table created above, we can use the following SQL statement:\n",
    "\n",
    "\" TRUNCATE \": The TRUNCATE command is used to delete all data from a table without deleting the table itself.\n",
    "For example, to delete all data from the \"users\" table created above, we can use the following SQL statement:"
   ]
  },
  {
   "cell_type": "markdown",
   "id": "14c73fb0-341f-4368-95b5-8cdc9f2b18f2",
   "metadata": {},
   "source": [
    "# Q3. What is DML? Explain INSERT, UPDATE, and DELETE with an example.\n",
    "\n",
    "--DML stands for Data Manipulation Language and is used to manipulate data stored in a database. It includes commands such as INSERT, UPDATE, and DELETE.\n",
    "\n",
    "\" INSERT \": The INSERT statement is used to add new records to a table. Here's an example:\n",
    "This statement inserts a new record with the values 'Johnny', 'Deep', and 'johnny.deep@email.com' into the 'employees' table.\n",
    "\n",
    "\" UPDATE \": The UPDATE statement is used to modify existing records in a table. Here's an example:\n",
    "This statement updates the 'salary' column for the record with an 'employee_id' of 1234 in the 'employees' table to 60000.\n",
    "\n",
    "\" DELETE \": The DELETE statement is used to delete records from a table. Here's an example:\n",
    "This statement deletes the record with an 'employee_id' of 5678 from the 'employees' table."
   ]
  },
  {
   "cell_type": "markdown",
   "id": "ed8b6fb0-bbe2-4d7a-a6bd-5293a9778585",
   "metadata": {},
   "source": [
    "# Q4. What is DQL? Explain SELECT with an example.\n",
    "\n",
    "---DQL stands for Data Query Language, which is a subset of SQL that is used to retrieve data from a database. The most commonly used DQL command is SELECT, which is used to select data from a table in a database.\n",
    "\n",
    "--The most commonly used DQL command is SELECT. The SELECT command is used to retrieve data from one or more tables. Here's an example of how to use the SELECT command:\n",
    "\n",
    "+----+---------+-------+-----+\n",
    "| id | name    | grade | age |\n",
    "+----+---------+-------+-----+\n",
    "| 1  | Ali   | A     | 16  |\n",
    "| 2  | Boby     | B     | 17  |\n",
    "| 3  | Charu | A     | 18  |\n",
    "+----+---------+-------+-----+\n",
    "\n",
    "-To select all columns from the students table, we can use the following command:\n",
    "\n",
    "select * from students ;\n",
    "\n",
    "-To select all columns from the students table, we can use the following command:\n",
    "\n",
    "select * from students ;"
   ]
  },
  {
   "cell_type": "markdown",
   "id": "3a6faf85-3c18-49ec-bf5e-023ebad2ab7e",
   "metadata": {},
   "source": [
    "# Q5. Explain Primary Key and Foreign Key.\n",
    "\n",
    "---a primary key is a unique identifier for each row in a table. It is a column or combination of columns that uniquely identifies each record in a table. The primary key constraint ensures that the values in the primary key column(s) are unique and not null.\n",
    "For example, in a \"users\" table, the \"id\" column can be the primary key if each user has a unique ID number.\n",
    "\n",
    "---A foreign key is a column or combination of columns in one table that refers to the primary key of another table. It establishes a relationship between two tables, where the values in the foreign key column(s) of one table match the values in the primary key column(s) of another table.\n",
    "For example, in a \"orders\" table, the \"user_id\" column can be a foreign key that refers to the \"id\" column of the \"users\" table, indicating which user placed each order."
   ]
  },
  {
   "cell_type": "markdown",
   "id": "053f160a-7bf3-48b6-88b0-97d34710f81c",
   "metadata": {
    "tags": []
   },
   "source": [
    "# Q6. Write a python code to connect MySQL to python. Explain the cursor() and execute() method.\n"
   ]
  },
  {
   "cell_type": "code",
   "execution_count": 3,
   "id": "d307e8d4-9a97-48a0-8cbb-37eff3df5b1f",
   "metadata": {},
   "outputs": [
    {
     "name": "stdout",
     "output_type": "stream",
     "text": [
      "/bin/bash: -c: line 1: syntax error near unexpected token `img/MySQL.png'\n",
      "/bin/bash: -c: line 1: `[title](img/MySQL.png)'\n"
     ]
    }
   ],
   "source": [
    "![title](img/MySQL.png)"
   ]
  },
  {
   "cell_type": "markdown",
   "id": "9e987f6a-db1f-490e-8574-86529dccaefe",
   "metadata": {},
   "source": [
    "--The cursor() method in Python is used to create a cursor object, which allows us to execute SQL commands on the database. The cursor object provides methods to execute SQL commands, fetch data from the database, and handle transactions.\n",
    "\n",
    "--The execute() method is used to execute SQL commands on the database using the cursor object. It takes an SQL query as its argument and returns the result of the query. For example, to execute a SELECT query on a MySQL database using the cursor object,"
   ]
  },
  {
   "cell_type": "markdown",
   "id": "6a5e2cdd-58f0-4a2d-94d4-0b346dcd968e",
   "metadata": {},
   "source": [
    "# Q7. Give the order of execution of SQL clauses in an SQL query.\n",
    " \n",
    " \" 7 STAGES OF SQL ORDER OF EXECUTION \" : \n",
    "1. FROM/JOIN\n",
    "2. WHERE\n",
    "3. GROUP BY\n",
    "4. HAVING\n",
    "5. SELECT\n",
    "6. ORDER BY\n",
    "7. LIMIT/OFFSET"
   ]
  },
  {
   "cell_type": "markdown",
   "id": "1e384190-b155-4233-83e4-d4317ffad37e",
   "metadata": {},
   "source": [
    "---The order in which the clauses in queries are executed is as follows.\n",
    "\n",
    " \n",
    "\n",
    "1. FROM/JOIN \n",
    "The FROM and/or JOIN clauses are executed first to determine the data of interest.\n",
    "\n",
    " \n",
    "\n",
    "2. WHERE \n",
    "The WHERE clause is executed to filter out records that do not meet the constraints.\n",
    "\n",
    " \n",
    "\n",
    "3. GROUP BY \n",
    "The GROUP BY clause is executed to group the data based on the values in one or more columns.\n",
    "\n",
    " \n",
    "\n",
    "4. HAVING \n",
    "The HAVING clause is executed to remove the created grouped records that don’t meet the constraints.\n",
    "\n",
    " \n",
    "\n",
    "5. SELECT \n",
    "The SELECT clause is executed to derive all desired columns and expressions.\n",
    "\n",
    " \n",
    "\n",
    "6. ORDER BY \n",
    "The ORDER BY clause is executed to sort the derived values in ascending or descending order.\n",
    "\n",
    " \n",
    "\n",
    "7. LIMIT/OFFSET \n",
    "Finally, the LIMIT and/or OFFSET clauses are executed to keep or skip a specified number of rows."
   ]
  }
 ],
 "metadata": {
  "kernelspec": {
   "display_name": "Python 3 (ipykernel)",
   "language": "python",
   "name": "python3"
  },
  "language_info": {
   "codemirror_mode": {
    "name": "ipython",
    "version": 3
   },
   "file_extension": ".py",
   "mimetype": "text/x-python",
   "name": "python",
   "nbconvert_exporter": "python",
   "pygments_lexer": "ipython3",
   "version": "3.10.8"
  }
 },
 "nbformat": 4,
 "nbformat_minor": 5
}
